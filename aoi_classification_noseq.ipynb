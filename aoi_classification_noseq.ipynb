{
 "cells": [
  {
   "cell_type": "markdown",
   "metadata": {},
   "source": [
    "## aoi classification  0-pass ，1-defect"
   ]
  },
  {
   "cell_type": "code",
   "execution_count": 15,
   "metadata": {},
   "outputs": [
    {
     "name": "stdout",
     "output_type": "stream",
     "text": [
      "['defect', 'defect_clean', 'pass', 'test', 'test01', 'test_pass', 'train', 'train01']\n"
     ]
    }
   ],
   "source": [
    "import numpy as np # linear algebra\n",
    "import pandas as pd # data processing, CSV file I/O (e.g. pd.read_csv)\n",
    "import cv2\n",
    "import matplotlib.pyplot as plt\n",
    "import seaborn as sns\n",
    "from sklearn.metrics import confusion_matrix\n",
    "import itertools\n",
    "# Input data files are available in the \"../input/\" directory.\n",
    "# For example, running this (by clicking run or pressing Shift+Enter) will list the files in the input directory\n",
    "import random\n",
    "import os,shutil\n",
    "\n",
    "src_path=\"..\\\\tensorflow-classification\\\\dataset\"\n",
    "\n",
    "print(os.listdir(src_path))\n",
    "\n",
    "#constant value\n",
    "VALID_SPIT=0.2\n",
    "IMAGE_SIZE=80\n",
    "BATCH_SIZE=20"
   ]
  },
  {
   "cell_type": "markdown",
   "metadata": {},
   "source": [
    "### 載入data"
   ]
  },
  {
   "cell_type": "code",
   "execution_count": 13,
   "metadata": {},
   "outputs": [
    {
     "name": "stdout",
     "output_type": "stream",
     "text": [
      "(180, 80, 80, 3)\n",
      "(180,)\n"
     ]
    }
   ],
   "source": [
    "label=[]\n",
    "data=[]\n",
    "counter=0\n",
    "path=\"..\\\\tensorflow-classification\\\\dataset\\\\train01\"\n",
    "for file in os.listdir(path):\n",
    "    image_data=cv2.imread(os.path.join(path,file), cv2.IMREAD_COLOR)\n",
    "    image_data=cv2.resize(image_data,(IMAGE_SIZE,IMAGE_SIZE))\n",
    "    if file.startswith(\"pass\"):\n",
    "        label.append(0)\n",
    "    elif file.startswith(\"defect\"):\n",
    "        label.append(1)\n",
    "    try:\n",
    "        data.append(image_data/255)\n",
    "    except:\n",
    "        label=label[:len(label)-1]\n",
    "    counter+=1\n",
    "    if counter%200==0:\n",
    "        print (counter,\" image data retreived\")\n",
    "\n",
    "data=np.array(data)\n",
    "data=data.reshape((data.shape)[0],(data.shape)[1],(data.shape)[2],3)\n",
    "label=np.array(label)\n",
    "print (data.shape)\n",
    "print (label.shape)"
   ]
  },
  {
   "cell_type": "markdown",
   "metadata": {},
   "source": [
    "### split 20%"
   ]
  },
  {
   "cell_type": "code",
   "execution_count": 14,
   "metadata": {},
   "outputs": [
    {
     "name": "stdout",
     "output_type": "stream",
     "text": [
      "(144, 80, 80, 3)\n",
      "(144,)\n",
      "(36, 80, 80, 3)\n",
      "(36,)\n"
     ]
    }
   ],
   "source": [
    "from sklearn.model_selection import train_test_split\n",
    "train_data, valid_data, train_label, valid_label = train_test_split(\n",
    "    data, label, test_size=0.2, random_state=42)\n",
    "print(train_data.shape)\n",
    "print(train_label.shape)\n",
    "print(valid_data.shape)\n",
    "print(valid_label.shape)"
   ]
  },
  {
   "cell_type": "markdown",
   "metadata": {},
   "source": [
    "### use vgg model"
   ]
  },
  {
   "cell_type": "code",
   "execution_count": 1,
   "metadata": {},
   "outputs": [
    {
     "name": "stderr",
     "output_type": "stream",
     "text": [
      "C:\\Users\\nien\\Anaconda3\\envs\\tensorflow-gpu\\lib\\site-packages\\h5py\\__init__.py:36: FutureWarning: Conversion of the second argument of issubdtype from `float` to `np.floating` is deprecated. In future, it will be treated as `np.float64 == np.dtype(float).type`.\n",
      "  from ._conv import register_converters as _register_converters\n",
      "Using TensorFlow backend.\n"
     ]
    },
    {
     "name": "stdout",
     "output_type": "stream",
     "text": [
      "_________________________________________________________________\n",
      "Layer (type)                 Output Shape              Param #   \n",
      "=================================================================\n",
      "input_1 (InputLayer)         (None, 80, 80, 3)         0         \n",
      "_________________________________________________________________\n",
      "block1_conv1 (Conv2D)        (None, 80, 80, 64)        1792      \n",
      "_________________________________________________________________\n",
      "block1_conv2 (Conv2D)        (None, 80, 80, 64)        36928     \n",
      "_________________________________________________________________\n",
      "block1_pool (MaxPooling2D)   (None, 40, 40, 64)        0         \n",
      "_________________________________________________________________\n",
      "block2_conv1 (Conv2D)        (None, 40, 40, 128)       73856     \n",
      "_________________________________________________________________\n",
      "block2_conv2 (Conv2D)        (None, 40, 40, 128)       147584    \n",
      "_________________________________________________________________\n",
      "block2_pool (MaxPooling2D)   (None, 20, 20, 128)       0         \n",
      "_________________________________________________________________\n",
      "block3_conv1 (Conv2D)        (None, 20, 20, 256)       295168    \n",
      "_________________________________________________________________\n",
      "block3_conv2 (Conv2D)        (None, 20, 20, 256)       590080    \n",
      "_________________________________________________________________\n",
      "block3_conv3 (Conv2D)        (None, 20, 20, 256)       590080    \n",
      "_________________________________________________________________\n",
      "block3_pool (MaxPooling2D)   (None, 10, 10, 256)       0         \n",
      "_________________________________________________________________\n",
      "block4_conv1 (Conv2D)        (None, 10, 10, 512)       1180160   \n",
      "_________________________________________________________________\n",
      "block4_conv2 (Conv2D)        (None, 10, 10, 512)       2359808   \n",
      "_________________________________________________________________\n",
      "block4_conv3 (Conv2D)        (None, 10, 10, 512)       2359808   \n",
      "_________________________________________________________________\n",
      "block4_pool (MaxPooling2D)   (None, 5, 5, 512)         0         \n",
      "_________________________________________________________________\n",
      "block5_conv1 (Conv2D)        (None, 5, 5, 512)         2359808   \n",
      "_________________________________________________________________\n",
      "block5_conv2 (Conv2D)        (None, 5, 5, 512)         2359808   \n",
      "_________________________________________________________________\n",
      "block5_conv3 (Conv2D)        (None, 5, 5, 512)         2359808   \n",
      "_________________________________________________________________\n",
      "block5_pool (MaxPooling2D)   (None, 2, 2, 512)         0         \n",
      "=================================================================\n",
      "Total params: 14,714,688\n",
      "Trainable params: 14,714,688\n",
      "Non-trainable params: 0\n",
      "_________________________________________________________________\n"
     ]
    }
   ],
   "source": [
    "from keras import applications\n",
    "vgg_model = applications.VGG16(weights='imagenet',\n",
    "                               include_top=False,\n",
    "                               input_shape=(80, 80, 3))\n",
    "\n",
    "vgg_model.summary()"
   ]
  },
  {
   "cell_type": "markdown",
   "metadata": {},
   "source": [
    "### 建模"
   ]
  },
  {
   "cell_type": "code",
   "execution_count": 2,
   "metadata": {},
   "outputs": [],
   "source": [
    "from keras import layers\n",
    "from keras import models"
   ]
  },
  {
   "cell_type": "code",
   "execution_count": 3,
   "metadata": {},
   "outputs": [
    {
     "name": "stdout",
     "output_type": "stream",
     "text": [
      "{'input_2': <keras.engine.topology.InputLayer object at 0x0000021B32F84BE0>, 'block1_conv1': <keras.layers.convolutional.Conv2D object at 0x0000021B32F84CC0>, 'block1_conv2': <keras.layers.convolutional.Conv2D object at 0x0000021B32F84D68>, 'block1_pool': <keras.layers.pooling.MaxPooling2D object at 0x0000021B32F84E48>, 'block2_conv1': <keras.layers.convolutional.Conv2D object at 0x0000021B32FA03C8>, 'block2_conv2': <keras.layers.convolutional.Conv2D object at 0x0000021B32FA0C18>, 'block2_pool': <keras.layers.pooling.MaxPooling2D object at 0x0000021B198ECC50>, 'block3_conv1': <keras.layers.convolutional.Conv2D object at 0x0000021B198FBA20>, 'block3_conv2': <keras.layers.convolutional.Conv2D object at 0x0000021B1990F390>, 'block3_conv3': <keras.layers.convolutional.Conv2D object at 0x0000021B19925F28>, 'block3_pool': <keras.layers.pooling.MaxPooling2D object at 0x0000021B1993AF98>, 'block4_conv1': <keras.layers.convolutional.Conv2D object at 0x0000021B32F41940>, 'block4_conv2': <keras.layers.convolutional.Conv2D object at 0x0000021B19965860>, 'block4_conv3': <keras.layers.convolutional.Conv2D object at 0x0000021B19977E80>, 'block4_pool': <keras.layers.pooling.MaxPooling2D object at 0x0000021B19988518>, 'block5_conv1': <keras.layers.convolutional.Conv2D object at 0x0000021B199B09E8>, 'block5_conv2': <keras.layers.convolutional.Conv2D object at 0x0000021B199C4EF0>, 'block5_conv3': <keras.layers.convolutional.Conv2D object at 0x0000021B199DAF28>, 'block5_pool': <keras.layers.pooling.MaxPooling2D object at 0x0000021B199F0160>}\n"
     ]
    }
   ],
   "source": [
    "from keras import applications\n",
    "vgg_model = applications.VGG16(weights='imagenet',\n",
    "                               include_top=False,\n",
    "                               input_shape=(80, 80, 3))\n",
    "layer_dict = dict([(layer.name, layer) for layer in vgg_model.layers])\n",
    "print(layer_dict)"
   ]
  },
  {
   "cell_type": "code",
   "execution_count": 4,
   "metadata": {},
   "outputs": [
    {
     "name": "stdout",
     "output_type": "stream",
     "text": [
      "WARNING:tensorflow:From C:\\Users\\nien\\Anaconda3\\envs\\tensorflow-gpu\\lib\\site-packages\\keras\\backend\\tensorflow_backend.py:1264: calling reduce_prod (from tensorflow.python.ops.math_ops) with keep_dims is deprecated and will be removed in a future version.\n",
      "Instructions for updating:\n",
      "keep_dims is deprecated, use keepdims instead\n"
     ]
    },
    {
     "name": "stderr",
     "output_type": "stream",
     "text": [
      "C:\\Users\\nien\\Anaconda3\\envs\\tensorflow-gpu\\lib\\site-packages\\ipykernel_launcher.py:6: UserWarning: Update your `Model` call to the Keras 2 API: `Model(inputs=Tensor(\"in..., outputs=Tensor(\"ou...)`\n",
      "  \n"
     ]
    }
   ],
   "source": [
    "layer_dict = dict([(layer.name, layer) for layer in vgg_model.layers])\n",
    "x = layer_dict['block5_pool'].output\n",
    "x = layers.Flatten()(x)\n",
    "x = layers.Dense(256, activation  = 'relu')(x)\n",
    "y = layers.Dense(1, activation = 'sigmoid',name='out')(x)\n",
    "model = models.Model(input=vgg_model.input, output=y)"
   ]
  },
  {
   "cell_type": "code",
   "execution_count": 5,
   "metadata": {},
   "outputs": [
    {
     "name": "stdout",
     "output_type": "stream",
     "text": [
      "_________________________________________________________________\n",
      "Layer (type)                 Output Shape              Param #   \n",
      "=================================================================\n",
      "input_2 (InputLayer)         (None, 80, 80, 3)         0         \n",
      "_________________________________________________________________\n",
      "block1_conv1 (Conv2D)        (None, 80, 80, 64)        1792      \n",
      "_________________________________________________________________\n",
      "block1_conv2 (Conv2D)        (None, 80, 80, 64)        36928     \n",
      "_________________________________________________________________\n",
      "block1_pool (MaxPooling2D)   (None, 40, 40, 64)        0         \n",
      "_________________________________________________________________\n",
      "block2_conv1 (Conv2D)        (None, 40, 40, 128)       73856     \n",
      "_________________________________________________________________\n",
      "block2_conv2 (Conv2D)        (None, 40, 40, 128)       147584    \n",
      "_________________________________________________________________\n",
      "block2_pool (MaxPooling2D)   (None, 20, 20, 128)       0         \n",
      "_________________________________________________________________\n",
      "block3_conv1 (Conv2D)        (None, 20, 20, 256)       295168    \n",
      "_________________________________________________________________\n",
      "block3_conv2 (Conv2D)        (None, 20, 20, 256)       590080    \n",
      "_________________________________________________________________\n",
      "block3_conv3 (Conv2D)        (None, 20, 20, 256)       590080    \n",
      "_________________________________________________________________\n",
      "block3_pool (MaxPooling2D)   (None, 10, 10, 256)       0         \n",
      "_________________________________________________________________\n",
      "block4_conv1 (Conv2D)        (None, 10, 10, 512)       1180160   \n",
      "_________________________________________________________________\n",
      "block4_conv2 (Conv2D)        (None, 10, 10, 512)       2359808   \n",
      "_________________________________________________________________\n",
      "block4_conv3 (Conv2D)        (None, 10, 10, 512)       2359808   \n",
      "_________________________________________________________________\n",
      "block4_pool (MaxPooling2D)   (None, 5, 5, 512)         0         \n",
      "_________________________________________________________________\n",
      "block5_conv1 (Conv2D)        (None, 5, 5, 512)         2359808   \n",
      "_________________________________________________________________\n",
      "block5_conv2 (Conv2D)        (None, 5, 5, 512)         2359808   \n",
      "_________________________________________________________________\n",
      "block5_conv3 (Conv2D)        (None, 5, 5, 512)         2359808   \n",
      "_________________________________________________________________\n",
      "block5_pool (MaxPooling2D)   (None, 2, 2, 512)         0         \n",
      "_________________________________________________________________\n",
      "flatten_1 (Flatten)          (None, 2048)              0         \n",
      "_________________________________________________________________\n",
      "dense_1 (Dense)              (None, 256)               524544    \n",
      "_________________________________________________________________\n",
      "out (Dense)                  (None, 1)                 257       \n",
      "=================================================================\n",
      "Total params: 15,239,489\n",
      "Trainable params: 15,239,489\n",
      "Non-trainable params: 0\n",
      "_________________________________________________________________\n"
     ]
    }
   ],
   "source": [
    "model.summary()"
   ]
  },
  {
   "cell_type": "code",
   "execution_count": 6,
   "metadata": {},
   "outputs": [
    {
     "name": "stdout",
     "output_type": "stream",
     "text": [
      "Tensor(\"input_2:0\", shape=(?, 80, 80, 3), dtype=float32)\n"
     ]
    }
   ],
   "source": [
    "print(model.input)"
   ]
  },
  {
   "cell_type": "code",
   "execution_count": 7,
   "metadata": {},
   "outputs": [
    {
     "name": "stdout",
     "output_type": "stream",
     "text": [
      "Tensor(\"out/Sigmoid:0\", shape=(?, 1), dtype=float32)\n"
     ]
    }
   ],
   "source": [
    "print(model.output)"
   ]
  },
  {
   "cell_type": "code",
   "execution_count": 23,
   "metadata": {},
   "outputs": [
    {
     "data": {
      "text/plain": [
       "<keras.engine.topology.InputLayer at 0x1a80c0bcac8>"
      ]
     },
     "execution_count": 23,
     "metadata": {},
     "output_type": "execute_result"
    }
   ],
   "source": [
    "model.get_layer('input_2')"
   ]
  },
  {
   "cell_type": "code",
   "execution_count": 11,
   "metadata": {},
   "outputs": [],
   "source": [
    "import tensorflow as tf\n",
    "tf_config = tf.ConfigProto()\n",
    "tf_sess = tf.Session(config=tf_config)"
   ]
  },
  {
   "cell_type": "code",
   "execution_count": 13,
   "metadata": {},
   "outputs": [
    {
     "name": "stdout",
     "output_type": "stream",
     "text": [
      "Tensor(\"out/Sigmoid:0\", shape=(?, 1), dtype=float32)\n"
     ]
    }
   ],
   "source": [
    "tf_output = tf_sess.graph.get_tensor_by_name(\"out/Sigmoid:0\")\n",
    "print(tf_output)"
   ]
  },
  {
   "cell_type": "markdown",
   "metadata": {},
   "source": [
    "### training"
   ]
  },
  {
   "cell_type": "code",
   "execution_count": 9,
   "metadata": {},
   "outputs": [],
   "source": [
    "from keras import backend as K\n",
    "K.set_image_dim_ordering('th')\n",
    "K.set_image_data_format('channels_last')\n",
    "from keras import layers\n",
    "from keras import models\n",
    "from keras import optimizers\n",
    "from keras.layers import GlobalAveragePooling2D\n",
    "import tensorflow as tf\n",
    "model.compile(loss='binary_crossentropy',optimizer=optimizers.adam(lr=1e-4),metrics=['acc'])"
   ]
  },
  {
   "cell_type": "code",
   "execution_count": 15,
   "metadata": {},
   "outputs": [],
   "source": [
    "checkpoint_path = \"check\\\\model.ckpt\"\n",
    "cp_callback = tf.keras.callbacks.ModelCheckpoint(checkpoint_path,\n",
    "                                                 save_weights_only=True,\n",
    "                                                 verbose=1)"
   ]
  },
  {
   "cell_type": "code",
   "execution_count": 16,
   "metadata": {},
   "outputs": [
    {
     "name": "stdout",
     "output_type": "stream",
     "text": [
      "Epoch 1/20\n",
      "144/144 [==============================] - 7s 47ms/step - loss: 0.4183 - acc: 0.7986\n",
      "Epoch 2/20\n",
      "144/144 [==============================] - 1s 10ms/step - loss: 0.1058 - acc: 0.9514\n",
      "Epoch 3/20\n",
      "144/144 [==============================] - 1s 10ms/step - loss: 0.0564 - acc: 0.9653\n",
      "Epoch 4/20\n",
      "144/144 [==============================] - 1s 10ms/step - loss: 0.0337 - acc: 0.9931\n",
      "Epoch 5/20\n",
      "144/144 [==============================] - 1s 10ms/step - loss: 0.0134 - acc: 0.9931\n",
      "Epoch 6/20\n",
      "144/144 [==============================] - 1s 10ms/step - loss: 0.0067 - acc: 1.0000\n",
      "Epoch 7/20\n",
      "144/144 [==============================] - 1s 10ms/step - loss: 9.5362e-04 - acc: 1.0000\n",
      "Epoch 8/20\n",
      "144/144 [==============================] - 1s 10ms/step - loss: 1.0031e-04 - acc: 1.0000\n",
      "Epoch 9/20\n",
      "144/144 [==============================] - 1s 10ms/step - loss: 2.0747e-05 - acc: 1.0000\n",
      "Epoch 10/20\n",
      "144/144 [==============================] - 1s 10ms/step - loss: 1.1994e-05 - acc: 1.0000\n",
      "Epoch 11/20\n",
      "144/144 [==============================] - 1s 10ms/step - loss: 8.0736e-06 - acc: 1.0000\n",
      "Epoch 12/20\n",
      "144/144 [==============================] - 1s 10ms/step - loss: 6.7652e-06 - acc: 1.0000\n",
      "Epoch 13/20\n",
      "144/144 [==============================] - 1s 10ms/step - loss: 5.8119e-06 - acc: 1.0000\n",
      "Epoch 14/20\n",
      "144/144 [==============================] - 1s 10ms/step - loss: 5.1329e-06 - acc: 1.0000\n",
      "Epoch 15/20\n",
      "144/144 [==============================] - 1s 10ms/step - loss: 4.6689e-06 - acc: 1.0000\n",
      "Epoch 16/20\n",
      "144/144 [==============================] - 1s 10ms/step - loss: 4.2531e-06 - acc: 1.0000\n",
      "Epoch 17/20\n",
      "144/144 [==============================] - 1s 10ms/step - loss: 3.8804e-06 - acc: 1.0000\n",
      "Epoch 18/20\n",
      "144/144 [==============================] - 1s 10ms/step - loss: 3.5547e-06 - acc: 1.0000\n",
      "Epoch 19/20\n",
      "144/144 [==============================] - 1s 10ms/step - loss: 3.2585e-06 - acc: 1.0000: 0s - loss: 3.7762e-06 - acc: 1.00\n",
      "Epoch 20/20\n",
      "144/144 [==============================] - 1s 10ms/step - loss: 2.9292e-06 - acc: 1.0000\n"
     ]
    }
   ],
   "source": [
    "train_history=model.fit(train_data, train_label, epochs=20, batch_size=BATCH_SIZE)"
   ]
  },
  {
   "cell_type": "markdown",
   "metadata": {},
   "source": [
    "### 儲存模型"
   ]
  },
  {
   "cell_type": "code",
   "execution_count": 17,
   "metadata": {},
   "outputs": [],
   "source": [
    "model.save(\"model01.h5\")"
   ]
  },
  {
   "cell_type": "markdown",
   "metadata": {},
   "source": [
    "### 模糊矩陣"
   ]
  },
  {
   "cell_type": "code",
   "execution_count": 18,
   "metadata": {},
   "outputs": [],
   "source": [
    "Y_pred = model.predict(valid_data)\n",
    "predicted_label=np.round(Y_pred,decimals=2)"
   ]
  },
  {
   "cell_type": "code",
   "execution_count": 19,
   "metadata": {},
   "outputs": [
    {
     "data": {
      "image/png": "[encoded data removed]",
      "text/plain": [
       "<Figure size 864x864 with 1 Axes>"
      ]
     },
     "metadata": {},
     "output_type": "display_data"
    }
   ],
   "source": [
    "import matplotlib.pyplot as plt\n",
    "%matplotlib inline\n",
    "from mlxtend.plotting import plot_confusion_matrix\n",
    "\n",
    "# Get the confusion matrix\n",
    "\n",
    "CM = confusion_matrix(valid_label, Y_pred.round())\n",
    "fig, ax = plot_confusion_matrix(conf_mat=CM ,  figsize=(12, 12))\n",
    "plt.xticks(range(2), ['pass', 'defect'], fontsize=16)\n",
    "plt.yticks(range(2), ['pass', 'defect'], fontsize=16)\n",
    "plt.show()"
   ]
  },
  {
   "cell_type": "markdown",
   "metadata": {},
   "source": [
    "## 引入test data"
   ]
  },
  {
   "cell_type": "code",
   "execution_count": 20,
   "metadata": {},
   "outputs": [
    {
     "name": "stdout",
     "output_type": "stream",
     "text": [
      "(18, 80, 80, 3)\n"
     ]
    }
   ],
   "source": [
    "import os\n",
    "import cv2\n",
    "import numpy as np\n",
    "import pandas as pd\n",
    "\n",
    "test_data=[]\n",
    "id=[]\n",
    "counter=0\n",
    "IMAGE_SIZE=80\n",
    "\n",
    "#for file in os.listdir(\"..\\\\tensorflow-classification\\\\dataset\\\\test_pass\"):\n",
    "for file in os.listdir(\"..\\\\tensorflow-classification\\\\dataset\\\\test01\"):\n",
    "    pic = \"..\\\\tensorflow-classification\\\\dataset\\\\test01\\\\\" + file\n",
    "    image_data=cv2.imread(os.path.join(pic), cv2.IMREAD_COLOR)\n",
    "    \n",
    "    try:\n",
    "        image_data=cv2.resize(image_data,(IMAGE_SIZE,IMAGE_SIZE))\n",
    "        test_data.append(image_data/255)\n",
    "        id.append((file.split(\".\"))[0])\n",
    "    except:\n",
    "        print (\"ek gaya\")\n",
    "    counter+=1\n",
    "\n",
    "\n",
    "test_data=np.array(test_data)\n",
    "print (test_data.shape)\n",
    "test_data=test_data.reshape((test_data.shape)[0],(test_data.shape)[1],(test_data.shape)[2],3)\n",
    "dataframe_output=pd.DataFrame({\"id\":id})"
   ]
  },
  {
   "cell_type": "code",
   "execution_count": 21,
   "metadata": {},
   "outputs": [],
   "source": [
    "predicted_labels=model.predict(test_data)\n",
    "predicted_labels=np.round(predicted_labels,decimals=2)\n",
    "labels=[1 if value>0.5 else 0 for value in predicted_labels]"
   ]
  },
  {
   "cell_type": "code",
   "execution_count": 22,
   "metadata": {},
   "outputs": [
    {
     "name": "stdout",
     "output_type": "stream",
     "text": [
      "        id  label\n",
      "0   defect      1\n",
      "1   defect      1\n",
      "2   defect      1\n",
      "3   defect      1\n",
      "4   defect      1\n",
      "5   defect      1\n",
      "6   defect      1\n",
      "7   defect      1\n",
      "8   defect      1\n",
      "9     pass      0\n",
      "10    pass      0\n",
      "11    pass      0\n",
      "12    pass      0\n",
      "13    pass      0\n",
      "14    pass      0\n",
      "15    pass      0\n",
      "16    pass      0\n",
      "17    pass      0\n"
     ]
    }
   ],
   "source": [
    "dataframe_output[\"label\"]=labels\n",
    "print(dataframe_output)\n",
    "dataframe_output.to_csv('result.csv')"
   ]
  },
  {
   "cell_type": "code",
   "execution_count": null,
   "metadata": {},
   "outputs": [],
   "source": [
    "import matplotlib.pyplot as plt\n",
    "%matplotlib inline\n",
    "\n",
    "for i in range(40):\n",
    "    plt.figure(figsize=(20, 6))\n",
    "    plt.subplot(1, 2, 2)\n",
    "    plt.imshow(test_data[i])\n",
    "#     plt.xlabel('label')\n",
    "    plt.xlabel(dataframe_output[\"label\"][i],fontsize=30)\n",
    "    plt.title('0-pass,1-defect',fontsize=40)\n",
    "    plt.show()"
   ]
  },
  {
   "cell_type": "markdown",
   "metadata": {},
   "source": [
    "### 需要去csv檔案寫上答案"
   ]
  },
  {
   "cell_type": "code",
   "execution_count": null,
   "metadata": {},
   "outputs": [],
   "source": [
    "import csv\n",
    "import os\n",
    "import numpy as np\n",
    "correct = 0\n",
    "with open('result.csv', newline='') as csvfile:    \n",
    "    rows = csv.DictReader(csvfile)\n",
    "    for row in rows:\n",
    "        if row['label'] == row['answer']:\n",
    "            correct += 1\n",
    "        else:\n",
    "            print(row['id'] + \" 答案是:\" + row['answer'] + \" 誤判成: \" + row['label'])\n",
    "            \n",
    "print(\"--------------------------------------\")\n",
    "print(\"準確率 ： %.8f\" %(correct/(rows.line_num-1)))"
   ]
  },
  {
   "cell_type": "markdown",
   "metadata": {},
   "source": [
    "## 使用model做驗證"
   ]
  },
  {
   "cell_type": "code",
   "execution_count": 17,
   "metadata": {},
   "outputs": [],
   "source": [
    "from keras.models import load_model\n",
    "import os\n",
    "import cv2\n",
    "import numpy as np\n",
    "import pandas as pd\n",
    "import csv\n",
    "import os\n",
    "import numpy as np"
   ]
  },
  {
   "cell_type": "code",
   "execution_count": null,
   "metadata": {},
   "outputs": [],
   "source": [
    "model = load_model('model.h5')\n",
    "\n",
    "test_data=[]\n",
    "id=[]\n",
    "counter=0\n",
    "IMAGE_SIZE=80\n",
    "\n",
    "for file in os.listdir(\"..\\\\tensorflow-classification\\\\dataset\\\\test_pass\"):\n",
    "    \n",
    "    pic = \"..\\\\tensorflow-classification\\\\dataset\\\\test_pass\\\\\" + file\n",
    "    image_data=cv2.imread(os.path.join(pic), cv2.IMREAD_COLOR)\n",
    "    \n",
    "    try:\n",
    "        image_data=cv2.resize(image_data,(IMAGE_SIZE,IMAGE_SIZE))\n",
    "        test_data.append(image_data/255)\n",
    "        id.append((file.split(\".\"))[0])\n",
    "    except:\n",
    "        print (\"WHAT THE FUCK\")\n",
    "    counter+=1\n",
    "\n",
    "\n",
    "test_data=np.array(test_data)\n",
    "print (test_data.shape)\n",
    "test_data=test_data.reshape((test_data.shape)[0],(test_data.shape)[1],(test_data.shape)[2],3)\n",
    "dataframe_output=pd.DataFrame({\"id\":id})"
   ]
  },
  {
   "cell_type": "code",
   "execution_count": 21,
   "metadata": {},
   "outputs": [
    {
     "name": "stdout",
     "output_type": "stream",
     "text": [
      "Tensor(\"input_2_1:0\", shape=(?, 80, 80, 3), dtype=float32)\n",
      "Tensor(\"out_1/Sigmoid:0\", shape=(?, 1), dtype=float32)\n"
     ]
    }
   ],
   "source": [
    "import tensorflow as tf\n",
    "model = load_model('model01.h5')\n",
    "print(model.input)\n",
    "print(model.output)"
   ]
  },
  {
   "cell_type": "code",
   "execution_count": null,
   "metadata": {},
   "outputs": [],
   "source": [
    "predicted_labels=model.predict(test_data)\n",
    "predicted_labels=np.round(predicted_labels,decimals=2)\n",
    "labels=[1 if value>0.5 else 0 for value in predicted_labels]\n",
    "\n",
    "dataframe_output[\"label\"]=labels\n",
    "print(dataframe_output)\n",
    "dataframe_output.to_csv('result1.csv')"
   ]
  },
  {
   "cell_type": "code",
   "execution_count": null,
   "metadata": {},
   "outputs": [],
   "source": [
    "correct = 0\n",
    "with open('result.csv', newline='') as csvfile:    \n",
    "    rows = csv.DictReader(csvfile)\n",
    "    for row in rows:\n",
    "        if row['label'] == row['answer']:\n",
    "            correct += 1\n",
    "        else:\n",
    "            print(row['id'] + \" 答案是:\" + row['answer'] + \" 誤判成: \" + row['label'])\n",
    "            \n",
    "print(\"--------------------------------------\")\n",
    "print(\"準確率 ： %.8f\" %(correct/(rows.line_num-1)))"
   ]
  },
  {
   "cell_type": "code",
   "execution_count": null,
   "metadata": {},
   "outputs": [],
   "source": []
  }
 ],
 "metadata": {
  "kernelspec": {
   "display_name": "Python 3",
   "language": "python",
   "name": "python3"
  },
  "language_info": {
   "codemirror_mode": {
    "name": "ipython",
    "version": 3
   },
   "file_extension": ".py",
   "mimetype": "text/x-python",
   "name": "python",
   "nbconvert_exporter": "python",
   "pygments_lexer": "ipython3",
   "version": "3.6.5"
  }
 },
 "nbformat": 4,
 "nbformat_minor": 2
}
